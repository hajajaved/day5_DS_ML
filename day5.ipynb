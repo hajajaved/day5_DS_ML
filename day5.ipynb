{
  "nbformat": 4,
  "nbformat_minor": 0,
  "metadata": {
    "colab": {
      "name": "day5.ipynb",
      "provenance": [],
      "authorship_tag": "ABX9TyP6a8vf+aQ9/Hf3EntmCdk9",
      "include_colab_link": true
    },
    "kernelspec": {
      "name": "python3",
      "display_name": "Python 3"
    },
    "language_info": {
      "name": "python"
    }
  },
  "cells": [
    {
      "cell_type": "markdown",
      "metadata": {
        "id": "view-in-github",
        "colab_type": "text"
      },
      "source": [
        "<a href=\"https://colab.research.google.com/github/hajajaved/day5_DS_ML/blob/main/day5.ipynb\" target=\"_parent\"><img src=\"https://colab.research.google.com/assets/colab-badge.svg\" alt=\"Open In Colab\"/></a>"
      ]
    },
    {
      "cell_type": "code",
      "metadata": {
        "id": "RH_EDOy-wSH1"
      },
      "source": [
        "#Importing libraries\n",
        "\n",
        "import numpy as np\n",
        "import matplotlib.pyplot as plt\n",
        "import pandas as pd"
      ],
      "execution_count": 1,
      "outputs": []
    },
    {
      "cell_type": "code",
      "metadata": {
        "id": "cXMC5gYiw-Pt"
      },
      "source": [
        "#import the dataset\n",
        "\n",
        "dataset = pd.read_csv(\"/content/Salary_Data.csv\")\n",
        "\n",
        "x = dataset.iloc[:, :-1].values\n",
        "y = dataset.iloc[:, -1].values"
      ],
      "execution_count": 3,
      "outputs": []
    },
    {
      "cell_type": "code",
      "metadata": {
        "id": "VL4PhX-pw-Ze"
      },
      "source": [
        "#Split the dataset into test and train sets\n",
        "from sklearn.model_selection import train_test_split\n",
        "\n",
        "x_train, x_test, y_train, y_test = train_test_split(x, y, test_size = 1/3)"
      ],
      "execution_count": 4,
      "outputs": []
    },
    {
      "cell_type": "code",
      "metadata": {
        "colab": {
          "base_uri": "https://localhost:8080/"
        },
        "id": "D5UT1U9Bw-il",
        "outputId": "264f553e-ee4e-4685-d7a7-c1b92a70005b"
      },
      "source": [
        "print(x_train)\n",
        "print(x_test)\n",
        "print(y_train)\n",
        "print(y_test)"
      ],
      "execution_count": 5,
      "outputs": [
        {
          "output_type": "stream",
          "text": [
            "[[ 8.7]\n",
            " [ 3.9]\n",
            " [ 4.5]\n",
            " [ 3. ]\n",
            " [ 1.5]\n",
            " [ 8.2]\n",
            " [ 3.2]\n",
            " [ 5.1]\n",
            " [ 7.9]\n",
            " [10.5]\n",
            " [ 9. ]\n",
            " [ 9.5]\n",
            " [ 1.3]\n",
            " [10.3]\n",
            " [ 4.9]\n",
            " [ 1.1]\n",
            " [ 4. ]\n",
            " [ 5.9]\n",
            " [ 2. ]\n",
            " [ 4.1]]\n",
            "[[5.3]\n",
            " [4. ]\n",
            " [3.2]\n",
            " [6.8]\n",
            " [2.9]\n",
            " [7.1]\n",
            " [3.7]\n",
            " [6. ]\n",
            " [2.2]\n",
            " [9.6]]\n",
            "[109431.  63218.  61111.  60150.  37731. 113812.  54445.  66029. 101302.\n",
            " 121872. 105582. 116969.  46205. 122391.  67938.  39343.  56957.  81363.\n",
            "  43525.  57081.]\n",
            "[ 83088.  55794.  64445.  91738.  56642.  98273.  57189.  93940.  39891.\n",
            " 112635.]\n"
          ],
          "name": "stdout"
        }
      ]
    },
    {
      "cell_type": "code",
      "metadata": {
        "colab": {
          "base_uri": "https://localhost:8080/"
        },
        "id": "Qx43xs2sw-sg",
        "outputId": "b0c6712f-e4c3-4c34-82c8-0b73c6958a15"
      },
      "source": [
        "#training the simple linear regression model\n",
        "\n",
        "from sklearn.linear_model import LinearRegression\n",
        "slr = LinearRegression()\n",
        "slr.fit(x_train, y_train)"
      ],
      "execution_count": 6,
      "outputs": [
        {
          "output_type": "execute_result",
          "data": {
            "text/plain": [
              "LinearRegression(copy_X=True, fit_intercept=True, n_jobs=None, normalize=False)"
            ]
          },
          "metadata": {
            "tags": []
          },
          "execution_count": 6
        }
      ]
    },
    {
      "cell_type": "code",
      "metadata": {
        "id": "D7QcLmx_xcEM"
      },
      "source": [
        "\n",
        "#Predictin the test set results\n",
        "\n",
        "y_pred = slr.predict(x_test)"
      ],
      "execution_count": 7,
      "outputs": []
    },
    {
      "cell_type": "code",
      "metadata": {
        "colab": {
          "base_uri": "https://localhost:8080/"
        },
        "id": "5GPrmTDFxcQN",
        "outputId": "bb2ea33a-446a-436c-d76d-060614daac43"
      },
      "source": [
        "\n",
        "y_pred"
      ],
      "execution_count": 8,
      "outputs": [
        {
          "output_type": "execute_result",
          "data": {
            "text/plain": [
              "array([ 75102.83091348,  62903.64004829,  55396.44566971,  89178.82037332,\n",
              "        52581.24777774,  91994.01826529,  60088.44215632,  81671.62599474,\n",
              "        46012.45269648, 115454.00069835])"
            ]
          },
          "metadata": {
            "tags": []
          },
          "execution_count": 8
        }
      ]
    },
    {
      "cell_type": "code",
      "metadata": {
        "colab": {
          "base_uri": "https://localhost:8080/"
        },
        "id": "SLfOOIVdxcZk",
        "outputId": "d65f2ff2-feea-4844-ce8c-fd5a6134715d"
      },
      "source": [
        "x_test"
      ],
      "execution_count": 11,
      "outputs": [
        {
          "output_type": "execute_result",
          "data": {
            "text/plain": [
              "array([[5.3],\n",
              "       [4. ],\n",
              "       [3.2],\n",
              "       [6.8],\n",
              "       [2.9],\n",
              "       [7.1],\n",
              "       [3.7],\n",
              "       [6. ],\n",
              "       [2.2],\n",
              "       [9.6]])"
            ]
          },
          "metadata": {
            "tags": []
          },
          "execution_count": 11
        }
      ]
    },
    {
      "cell_type": "code",
      "metadata": {
        "colab": {
          "base_uri": "https://localhost:8080/",
          "height": 295
        },
        "id": "fQ4Ivsv8xcjg",
        "outputId": "99d7d08c-66f7-4d7a-dd82-b9a97e5b242e"
      },
      "source": [
        "#Visualize the training set data\n",
        "\n",
        "plt.scatter(x_train, y_train, color = \"blue\")\n",
        "plt.plot(x_train, slr.predict(x_train), color = \"green\")\n",
        "plt.title(\"Simple Linear Regression Model\")\n",
        "plt.xlabel(\"Experience\")\n",
        "plt.ylabel(\"Salary\")\n",
        "\n",
        "plt.show()"
      ],
      "execution_count": 12,
      "outputs": [
        {
          "output_type": "display_data",
          "data": {
            "image/png": "[encoded data removed]",
            "text/plain": [
              "<Figure size 432x288 with 1 Axes>"
            ]
          },
          "metadata": {
            "tags": [],
            "needs_background": "light"
          }
        }
      ]
    },
    {
      "cell_type": "code",
      "metadata": {
        "colab": {
          "base_uri": "https://localhost:8080/",
          "height": 295
        },
        "id": "Hrbo1FV-x3qX",
        "outputId": "3cfdc45c-6751-4069-e681-76649683d50f"
      },
      "source": [
        "#Visualize the test set data\n",
        "\n",
        "plt.scatter(x_test, y_test, color = \"blue\")\n",
        "plt.plot(x_train, slr.predict(x_train), color = \"green\")\n",
        "plt.title(\"Simple Linear Regression Model\")\n",
        "plt.xlabel(\"Experience\")\n",
        "plt.ylabel(\"Salary\")\n",
        "\n",
        "plt.show()"
      ],
      "execution_count": 13,
      "outputs": [
        {
          "output_type": "display_data",
          "data": {
            "image/png": "[encoded data removed]",
            "text/plain": [
              "<Figure size 432x288 with 1 Axes>"
            ]
          },
          "metadata": {
            "tags": [],
            "needs_background": "light"
          }
        }
      ]
    },
    {
      "cell_type": "code",
      "metadata": {
        "id": "S8rSFa_Yx3xu"
      },
      "source": [
        ""
      ],
      "execution_count": null,
      "outputs": []
    },
    {
      "cell_type": "code",
      "metadata": {
        "id": "zDZv0uz2x35F"
      },
      "source": [
        ""
      ],
      "execution_count": null,
      "outputs": []
    },
    {
      "cell_type": "code",
      "metadata": {
        "id": "Z0MDhgm6x3_5"
      },
      "source": [
        ""
      ],
      "execution_count": null,
      "outputs": []
    }
  ]
}